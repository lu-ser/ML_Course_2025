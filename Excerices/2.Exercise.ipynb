{
 "cells": [
  {
   "cell_type": "markdown",
   "metadata": {},
   "source": [
    "# Dataset sul Traffico di Rete\n",
    "\n",
    "Il dataset che useremo in questa esercitazione contiene caratteristiche estratte da sessioni di traffico di rete, progettate per l'analisi e il rilevamento di malware basato sul comportamento della rete. Le caratteristiche sono organizzate in diverse categorie funzionali.\n",
    "\n",
    "## Categorie principali di caratteristiche\n",
    "\n",
    "### Informazioni sulla sessione\n",
    "- **Informazioni temporali**: `start`, `duration`, `cap_date`, `daysTime`, `weekDay`\n",
    "- **Informazioni di connessione**: Indirizzi IP e porte (`...ip`, `...port`)\n",
    "- **Etichette**: `label`, `labelSS` (classificazione del malware)\n",
    "\n",
    "### Metriche TCP/IP\n",
    "- **Statistiche pacchetti**: Conteggio pacchetti (`packets_...`), dimensioni (`packetsize...`), rapporti (`packetsAB_ratio`)\n",
    "- **Flag TCP**: Pacchetti ACK (`ack_...`), PUSH (`push_...`), RESET (`reset_...`), URG (`urg_...`)\n",
    "- **Tempi di arrivo**: Tempi tra pacchetti (`packetinterarrivel_...`)\n",
    "- **Time-to-live**: Valori TTL per pacchetti client/server (`ttl_...`, `ttlA...`, `ttlB...`)\n",
    "- **Analisi TCP**: Pacchetti persi, ritrasmessi (`tcpanalysis...`)\n",
    "- **Bytes trasferiti**: Totali e rapporti (`bytes_...`, `bytesAB_ratio`)\n",
    "\n",
    "### Protocollo HTTP\n",
    "- **Richieste HTTP**: Metodi GET/POST (`http_GET`, `http_POST`), conteggi (`httpcount...`)\n",
    "- **Bytes HTTP**: Dimensioni richieste/risposte (`httpreqbytes_...`, `httprespbytes_...`)\n",
    "- **Tempi HTTP**: Tempi di risposta (`httptime...`), tempi tra richiesta e risposta (`httpinterarrivel_...`)\n",
    "- **Cookie**: Conteggio e valori (`httpcookiecount`, `httpcookievalues_...`)\n",
    "- **Host dominante**: URL, rank Alexa, tipo di browser (`httpdom...`)\n",
    "- **Classificazione URL**: Identificatori per CDN, ad, cloud, ecc. (`iscdnhttp`, `isadhttp`, `iscloudhttp`, etc.)\n",
    "\n",
    "### Protocollo DNS\n",
    "- **Risposta DNS**: Conteggio indirizzi, risposte, flag (`dnscountaddresses`, `dns_flag`)\n",
    "- **Hostname DNS**: Nome host, TTL (`dnshostname`, `dnsminttl`)\n",
    "- **Tempi DNS**: Tempo di risposta (`dns_time`)\n",
    "- **Rank Alexa**: Rank del server nella risposta DNS (`dns_alexaRank`)\n",
    "\n",
    "### Protocollo SSL/TLS\n",
    "- **Handshake SSL**: Durata (`sslhandshakeduration_...`)\n",
    "- **Bytes SSL**: Bytes richiesta/risposta (`sslreqbytes_...`, `sslrespbytes_...`)\n",
    "- **Certificati**: Conteggio, rapporti (`sslcountcertificates`, `sslratio...`)\n",
    "- **Cifrari e algoritmi**: Conteggio cifrari supportati (`sslcountclient_...`, `sslcountserver_...`)\n",
    "- **Versioni SSL**: Numero di versioni, versione dominante (`ssldomserver_ciphersuite`, `ssldomserver_compression`)\n",
    "\n",
    "### Informazioni geografiche e di routing\n",
    "- **ASN**: Numero di sistemi autonomi (`asn_...`)\n",
    "- **Paesi**: Numero di paesi per client/server (`country_...`)\n",
    "\n",
    "\n",
    "# Obiettivo\n",
    "  Classificare un dispositivo come dispositivo di sicurezza o no. Vedi colonna `is_security_device`"
   ]
  },
  {
   "cell_type": "code",
   "execution_count": 1,
   "metadata": {},
   "outputs": [],
   "source": [
    "import pandas as pd\n",
    "df = pd.read_csv('datasets/iot_device_binary_transformed.csv')"
   ]
  },
  {
   "cell_type": "markdown",
   "metadata": {},
   "source": [
    "### Stampiamo le colonne"
   ]
  },
  {
   "cell_type": "code",
   "execution_count": 2,
   "metadata": {},
   "outputs": [
    {
     "data": {
      "text/plain": [
       "Index(['ack', 'ack_A', 'ack_B', 'bytes', 'bytes_A', 'bytes_A_B_ratio',\n",
       "       'bytes_B', 'ds_field_A', 'ds_field_B', 'duration',\n",
       "       ...\n",
       "       'suffix_is_co.il', 'suffix_is_com', 'suffix_is_com.sg',\n",
       "       'suffix_is_else', 'suffix_is_empty_char_value',\n",
       "       'suffix_is_googleapis.com', 'suffix_is_net', 'suffix_is_org',\n",
       "       'suffix_is_unresolved', 'is_security_device'],\n",
       "      dtype='object', length=298)"
      ]
     },
     "execution_count": 2,
     "metadata": {},
     "output_type": "execute_result"
    }
   ],
   "source": [
    "df.columns"
   ]
  }
 ],
 "metadata": {
  "kernelspec": {
   "display_name": ".venv",
   "language": "python",
   "name": "python3"
  },
  "language_info": {
   "codemirror_mode": {
    "name": "ipython",
    "version": 3
   },
   "file_extension": ".py",
   "mimetype": "text/x-python",
   "name": "python",
   "nbconvert_exporter": "python",
   "pygments_lexer": "ipython3",
   "version": "3.12.9"
  }
 },
 "nbformat": 4,
 "nbformat_minor": 2
}
