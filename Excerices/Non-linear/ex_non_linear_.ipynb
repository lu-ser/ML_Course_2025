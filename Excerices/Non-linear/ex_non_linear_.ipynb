{
 "cells": [
  {
   "cell_type": "markdown",
   "id": "1ca58a2f",
   "metadata": {},
   "source": [
    "# Esercizio\n",
    "\n",
    "Analizzate il dataset dei sensori IoT allegato e sviluppate un modello predittivo per il consumo energetico. Il vostro compito è identificare eventuali relazioni non lineari tra le variabili, proporre appropriate trasformazioni delle feature ed implementate il modello più opportuno per lo scopo. Documentate il vostro processo di analisi e le vostre conclusioni in un notebook completo."
   ]
  },
  {
   "cell_type": "markdown",
   "id": "5dadaede",
   "metadata": {},
   "source": [
    "## Dataset Description\n",
    "\n",
    "The dataset contains 10,000 records with 21 features related to IoT sensor measurements:\n",
    "\n",
    "- Environmental variables: temperature, humidity, pressure, dust levels, light intensity\n",
    "- Device characteristics: device age, device ID, firmware version, maintenance history\n",
    "- Operating parameters: sampling frequency, signal strength, data encryption\n",
    "- Performance metrics: CPU cycles, memory usage, energy consumption (target variable)"
   ]
  },
  {
   "cell_type": "markdown",
   "id": "d971740b",
   "metadata": {},
   "source": [
    "## 1. Setup dell'Ambiente e Caricamento dei Dati\n",
    "\n",
    "Iniziamo importando le librerie necessarie e configurando l'ambiente di lavoro. In questo notebook utilizzeremo pandas per la manipolazione dei dati, numpy per operazioni matematiche, e seaborn/matplotlib per le visualizzazioni."
   ]
  },
  {
   "cell_type": "code",
   "execution_count": 2,
   "id": "edcac1fe",
   "metadata": {},
   "outputs": [],
   "source": [
    "import pandas as pd\n",
    "import numpy as np\n",
    "import matplotlib.pyplot as plt\n",
    "import seaborn as sns\n",
    "from sklearn.model_selection import train_test_split\n",
    "from sklearn.metrics import mean_squared_error, r2_score\n",
    "from sklearn.preprocessing import PolynomialFeatures\n",
    "from sklearn.feature_selection import RFE, RFECV\n",
    "\n",
    "# Impostazioni di visualizzazione\n",
    "plt.style.use('seaborn-v0_8-whitegrid')\n",
    "sns.set_palette('viridis')\n",
    "pd.set_option('display.max_columns', None)\n",
    "np.set_printoptions(precision=3, suppress=True)\n",
    "\n",
    "# Caricamento del dataset\n",
    "df = pd.read_csv('iot_sensor_dataset.csv')\n"
   ]
  },
  {
   "cell_type": "markdown",
   "id": "3d86a8aa",
   "metadata": {},
   "source": [
    "Dopo aver importato le librerie, carichiamo il dataset IoT che contiene varie misurazioni di sensori e informazioni sui dispositivi. Il dataset include variabili come temperatura ambientale, intensità del segnale, età del dispositivo e consumo energetico, che sarà la nostra variabile target."
   ]
  },
  {
   "cell_type": "markdown",
   "id": "77ec93d3",
   "metadata": {},
   "source": [
    "## 2. Esplorazione Iniziale dei Dati\n",
    "Facciamo una prima analisi esplorativa del dataset per comprenderne la struttura e le caratteristiche principali."
   ]
  },
  {
   "cell_type": "code",
   "execution_count": 3,
   "id": "32345d00",
   "metadata": {},
   "outputs": [
    {
     "name": "stdout",
     "output_type": "stream",
     "text": [
      "Panoramica del dataset:\n",
      "Dimensioni: (10000, 21)\n",
      "\n",
      "Prime 5 righe:\n",
      "   ambient_temperature  sampling_frequency  signal_strength  device_age  \\\n",
      "0            25.973713           19.954055       -77.191891   15.638192   \n",
      "1            20.893886            7.078132       -85.421017  162.602114   \n",
      "2            27.181508            5.236645       -62.469972   36.750846   \n",
      "3            34.184239            6.562283       -95.602938  147.664778   \n",
      "4            20.126773           35.389292       -74.017591  104.289295   \n",
      "\n",
      "    humidity  light_intensity  vibration_level  device_id firmware_version  \\\n",
      "0  40.404672       555.609812         0.692885          8             v2.0   \n",
      "1  74.270838       928.340653         0.198886          4             v2.0   \n",
      "2  29.000585       728.246399         0.455055          9             v2.0   \n",
      "3  77.607516      3101.854739         0.628558          8             v1.0   \n",
      "4  63.762251      3235.445541         0.704064          8             v1.2   \n",
      "\n",
      "   last_maintenance  dust_level     pressure    altitude  nearby_devices  \\\n",
      "0          0.993326   26.698069  1010.317451   39.923957               4   \n",
      "1         85.753603   12.208043  1006.146390    4.206920               3   \n",
      "2        248.684473   11.505638   999.765706  531.109677               2   \n",
      "3        161.610740    8.778054  1005.291751  512.574592               6   \n",
      "4        230.211263    4.714780  1020.708222   56.712955               2   \n",
      "\n",
      "   packet_size  data_encryption  wind_speed  rain_intensity  cpu_cycles  \\\n",
      "0          509                0    3.591361             0.0   15.741622   \n",
      "1          685                1    1.484067             0.0   12.889040   \n",
      "2          611                1    1.258967             0.0   17.731871   \n",
      "3          655                0    3.401381             0.0   14.948923   \n",
      "4          567                1    3.344484             0.0   18.263649   \n",
      "\n",
      "   memory_usage  energy_consumption  \n",
      "0     19.562358          263.854519  \n",
      "1     29.120176          380.682088  \n",
      "2     37.725040          138.319772  \n",
      "3      8.579550          622.345991  \n",
      "4     22.949740          234.582245  \n",
      "\n",
      "Informazioni sul dataset:\n",
      "<class 'pandas.core.frame.DataFrame'>\n",
      "RangeIndex: 10000 entries, 0 to 9999\n",
      "Data columns (total 21 columns):\n",
      " #   Column               Non-Null Count  Dtype  \n",
      "---  ------               --------------  -----  \n",
      " 0   ambient_temperature  10000 non-null  float64\n",
      " 1   sampling_frequency   10000 non-null  float64\n",
      " 2   signal_strength      10000 non-null  float64\n",
      " 3   device_age           10000 non-null  float64\n",
      " 4   humidity             10000 non-null  float64\n",
      " 5   light_intensity      10000 non-null  float64\n",
      " 6   vibration_level      10000 non-null  float64\n",
      " 7   device_id            10000 non-null  int64  \n",
      " 8   firmware_version     10000 non-null  object \n",
      " 9   last_maintenance     10000 non-null  float64\n",
      " 10  dust_level           10000 non-null  float64\n",
      " 11  pressure             10000 non-null  float64\n",
      " 12  altitude             10000 non-null  float64\n",
      " 13  nearby_devices       10000 non-null  int64  \n",
      " 14  packet_size          10000 non-null  int64  \n",
      " 15  data_encryption      10000 non-null  int64  \n",
      " 16  wind_speed           10000 non-null  float64\n",
      " 17  rain_intensity       10000 non-null  float64\n",
      " 18  cpu_cycles           10000 non-null  float64\n",
      " 19  memory_usage         10000 non-null  float64\n",
      " 20  energy_consumption   10000 non-null  float64\n",
      "dtypes: float64(16), int64(4), object(1)\n",
      "memory usage: 1.6+ MB\n",
      "None\n",
      "\n",
      "Statistiche descrittive:\n"
     ]
    },
    {
     "name": "stdout",
     "output_type": "stream",
     "text": [
      "       ambient_temperature  sampling_frequency  signal_strength    device_age  \\\n",
      "count         10000.000000        10000.000000     10000.000000  10000.000000   \n",
      "mean             21.982912           30.920940       -70.063393     99.997927   \n",
      "std               8.027699           17.080844        14.865141    100.829921   \n",
      "min              -9.379202            1.002839      -127.845630      0.001674   \n",
      "25%              16.619276           16.194986       -80.356717     28.344672   \n",
      "50%              21.979240           31.164889       -70.034839     68.139154   \n",
      "75%              27.368647           45.674881       -59.898538    139.263169   \n",
      "max              53.409902           59.995565       -10.865035   1000.000000   \n",
      "\n",
      "           humidity  light_intensity  vibration_level     device_id  \\\n",
      "count  10000.000000     10000.000000     10000.000000  10000.000000   \n",
      "mean      54.994893       999.486223         0.495939      5.531700   \n",
      "std       20.194389       998.696746         0.486621      2.876495   \n",
      "min       20.007330         0.008432         0.000076      1.000000   \n",
      "25%       37.498058       292.224196         0.146924      3.000000   \n",
      "50%       55.223597       691.539117         0.348435      6.000000   \n",
      "75%       72.472463      1394.451454         0.697270      8.000000   \n",
      "max       89.996987      9716.112880         4.493995     10.000000   \n",
      "\n",
      "       last_maintenance    dust_level      pressure      altitude  \\\n",
      "count      10000.000000  10000.000000  10000.000000  10000.000000   \n",
      "mean         183.199670     12.207375   1013.012197    335.356280   \n",
      "std          104.911578     15.616118     10.000501    595.862007   \n",
      "min            0.120850      0.139343    975.895183    -54.570359   \n",
      "25%           92.053853      3.803019   1006.356650     37.922768   \n",
      "50%          184.266291      7.373736   1013.016177     66.147894   \n",
      "75%          272.514703     14.529691   1019.786490    431.957061   \n",
      "max          364.967873    365.024180   1048.199262   2889.358161   \n",
      "\n",
      "       nearby_devices   packet_size  data_encryption    wind_speed  \\\n",
      "count    10000.000000  10000.000000     10000.000000  10000.000000   \n",
      "mean         3.019800    511.552400         0.697700      2.665747   \n",
      "std          1.735139    127.706451         0.459277      1.384561   \n",
      "min          0.000000     64.000000         0.000000      0.017814   \n",
      "25%          2.000000    424.000000         0.000000      1.620313   \n",
      "50%          3.000000    509.000000         1.000000      2.511695   \n",
      "75%          4.000000    597.000000         1.000000      3.503203   \n",
      "max         12.000000    992.000000         1.000000      9.125882   \n",
      "\n",
      "       rain_intensity    cpu_cycles  memory_usage  energy_consumption  \n",
      "count    10000.000000  10000.000000  10000.000000        10000.000000  \n",
      "mean         0.609503     15.988867     28.572667          251.803449  \n",
      "std          1.445973      1.988696     16.103894          187.095010  \n",
      "min          0.000000      8.607386      0.320921           30.423862  \n",
      "25%          0.000000     14.644833     15.910956          133.044013  \n",
      "50%          0.000000     16.008918     26.623100          199.019555  \n",
      "75%          0.368140     17.320259     38.977064          310.606205  \n",
      "max         15.644077     23.665446     88.667953         3011.042884  \n"
     ]
    }
   ],
   "source": [
    "\n",
    "# Visualizzazione delle prime righe\n",
    "print(\"Panoramica del dataset:\")\n",
    "print(f\"Dimensioni: {df.shape}\")\n",
    "print(\"\\nPrime 5 righe:\")\n",
    "print(df.head())\n",
    "\n",
    "# Informazioni sui tipi di dati e valori mancanti\n",
    "print(\"\\nInformazioni sul dataset:\")\n",
    "print(df.info())\n",
    "\n",
    "# Statistiche descrittive\n",
    "print(\"\\nStatistiche descrittive:\")\n",
    "print(df.describe())"
   ]
  }
 ],
 "metadata": {
  "kernelspec": {
   "display_name": ".venv",
   "language": "python",
   "name": "python3"
  },
  "language_info": {
   "codemirror_mode": {
    "name": "ipython",
    "version": 3
   },
   "file_extension": ".py",
   "mimetype": "text/x-python",
   "name": "python",
   "nbconvert_exporter": "python",
   "pygments_lexer": "ipython3",
   "version": "3.12.9"
  }
 },
 "nbformat": 4,
 "nbformat_minor": 5
}
