{
 "cells": [
  {
   "cell_type": "markdown",
   "metadata": {},
   "source": [
    "# Dataset sul Traffico di Rete\n",
    "\n",
    "Il dataset che useremo in questa esercitazione contiene caratteristiche estratte da sessioni di traffico di rete, progettate per l'analisi e il rilevamento di malware basato sul comportamento della rete. Le caratteristiche sono organizzate in diverse categorie funzionali.\n",
    "\n",
    "## Categorie principali di caratteristiche\n",
    "\n",
    "### Informazioni sulla sessione\n",
    "- **Informazioni temporali**: `start`, `duration`, `cap_date`, `daysTime`, `weekDay`\n",
    "- **Informazioni di connessione**: Indirizzi IP e porte (`...ip`, `...port`)\n",
    "- **Etichette**: `label`, `labelSS` (classificazione del malware)\n",
    "\n",
    "### Metriche TCP/IP\n",
    "- **Statistiche pacchetti**: Conteggio pacchetti (`packets_...`), dimensioni (`packetsize...`), rapporti (`packetsAB_ratio`)\n",
    "- **Flag TCP**: Pacchetti ACK (`ack_...`), PUSH (`push_...`), RESET (`reset_...`), URG (`urg_...`)\n",
    "- **Tempi di arrivo**: Tempi tra pacchetti (`packetinterarrivel_...`)\n",
    "- **Time-to-live**: Valori TTL per pacchetti client/server (`ttl_...`, `ttlA...`, `ttlB...`)\n",
    "- **Analisi TCP**: Pacchetti persi, ritrasmessi (`tcpanalysis...`)\n",
    "- **Bytes trasferiti**: Totali e rapporti (`bytes_...`, `bytesAB_ratio`)\n",
    "\n",
    "### Protocollo HTTP\n",
    "- **Richieste HTTP**: Metodi GET/POST (`http_GET`, `http_POST`), conteggi (`httpcount...`)\n",
    "- **Bytes HTTP**: Dimensioni richieste/risposte (`httpreqbytes_...`, `httprespbytes_...`)\n",
    "- **Tempi HTTP**: Tempi di risposta (`httptime...`), tempi tra richiesta e risposta (`httpinterarrivel_...`)\n",
    "- **Cookie**: Conteggio e valori (`httpcookiecount`, `httpcookievalues_...`)\n",
    "- **Host dominante**: URL, rank Alexa, tipo di browser (`httpdom...`)\n",
    "- **Classificazione URL**: Identificatori per CDN, ad, cloud, ecc. (`iscdnhttp`, `isadhttp`, `iscloudhttp`, etc.)\n",
    "\n",
    "### Protocollo DNS\n",
    "- **Risposta DNS**: Conteggio indirizzi, risposte, flag (`dnscountaddresses`, `dns_flag`)\n",
    "- **Hostname DNS**: Nome host, TTL (`dnshostname`, `dnsminttl`)\n",
    "- **Tempi DNS**: Tempo di risposta (`dns_time`)\n",
    "- **Rank Alexa**: Rank del server nella risposta DNS (`dns_alexaRank`)\n",
    "\n",
    "### Protocollo SSL/TLS\n",
    "- **Handshake SSL**: Durata (`sslhandshakeduration_...`)\n",
    "- **Bytes SSL**: Bytes richiesta/risposta (`sslreqbytes_...`, `sslrespbytes_...`)\n",
    "- **Certificati**: Conteggio, rapporti (`sslcountcertificates`, `sslratio...`)\n",
    "- **Cifrari e algoritmi**: Conteggio cifrari supportati (`sslcountclient_...`, `sslcountserver_...`)\n",
    "- **Versioni SSL**: Numero di versioni, versione dominante (`ssldomserver_ciphersuite`, `ssldomserver_compression`)\n",
    "\n",
    "### Informazioni geografiche e di routing\n",
    "- **ASN**: Numero di sistemi autonomi (`asn_...`)\n",
    "- **Paesi**: Numero di paesi per client/server (`country_...`)\n",
    "\n",
    "\n",
    "# Obiettivo\n",
    "  Classificare un dispositivo come dispositivo di sicurezza o no. Vedi colonna `is_security_device`"
   ]
  },
  {
   "cell_type": "code",
   "execution_count": 1,
   "metadata": {},
   "outputs": [],
   "source": [
    "import pandas as pd\n",
    "df = pd.read_csv('../datasets/iot_device_binary_transformed.csv')"
   ]
  },
  {
   "cell_type": "markdown",
   "metadata": {},
   "source": [
    "### Stampiamo le colonne"
   ]
  },
  {
   "cell_type": "code",
   "execution_count": 2,
   "metadata": {},
   "outputs": [
    {
     "data": {
      "text/plain": [
       "Index(['ack', 'ack_A', 'ack_B', 'bytes', 'bytes_A', 'bytes_A_B_ratio',\n",
       "       'bytes_B', 'ds_field_A', 'ds_field_B', 'duration',\n",
       "       ...\n",
       "       'suffix_is_co.il', 'suffix_is_com', 'suffix_is_com.sg',\n",
       "       'suffix_is_else', 'suffix_is_empty_char_value',\n",
       "       'suffix_is_googleapis.com', 'suffix_is_net', 'suffix_is_org',\n",
       "       'suffix_is_unresolved', 'is_security_device'],\n",
       "      dtype='object', length=298)"
      ]
     },
     "execution_count": 2,
     "metadata": {},
     "output_type": "execute_result"
    }
   ],
   "source": [
    "df.columns"
   ]
  },
  {
   "cell_type": "markdown",
   "metadata": {},
   "source": [
    "### Vediamo che tipologia di valori dobbiamo classificare"
   ]
  },
  {
   "cell_type": "code",
   "execution_count": 3,
   "metadata": {},
   "outputs": [
    {
     "data": {
      "text/plain": [
       "0      1\n",
       "1      1\n",
       "2      1\n",
       "3      1\n",
       "4      1\n",
       "      ..\n",
       "895    0\n",
       "896    0\n",
       "897    0\n",
       "898    0\n",
       "899    0\n",
       "Name: is_security_device, Length: 900, dtype: int64"
      ]
     },
     "execution_count": 3,
     "metadata": {},
     "output_type": "execute_result"
    }
   ],
   "source": [
    "df[\"is_security_device\"]"
   ]
  },
  {
   "cell_type": "markdown",
   "metadata": {},
   "source": [
    "#### Abbiamo uni e zeri. Quindi indicano delle classi discrete\n",
    "Vediamo se il dataset è bilanciato"
   ]
  },
  {
   "cell_type": "code",
   "execution_count": 4,
   "metadata": {},
   "outputs": [
    {
     "data": {
      "text/plain": [
       "is_security_device\n",
       "0    500\n",
       "1    400\n",
       "Name: count, dtype: int64"
      ]
     },
     "execution_count": 4,
     "metadata": {},
     "output_type": "execute_result"
    }
   ],
   "source": [
    "df['is_security_device'].value_counts()"
   ]
  },
  {
   "cell_type": "code",
   "execution_count": 5,
   "metadata": {},
   "outputs": [
    {
     "data": {
      "image/png": "[encoded data removed]",
      "text/plain": [
       "<Figure size 800x600 with 1 Axes>"
      ]
     },
     "metadata": {},
     "output_type": "display_data"
    }
   ],
   "source": [
    "import matplotlib.pyplot as plt\n",
    "\n",
    "plt.figure(figsize=(8, 6))\n",
    "df['is_security_device'].value_counts().plot(kind='bar')\n",
    "plt.title('Distribuzione dei dispositivi Security vs Non-Security')\n",
    "plt.xlabel('Categoria')\n",
    "plt.ylabel('Conteggio')\n",
    "plt.show()"
   ]
  },
  {
   "cell_type": "markdown",
   "metadata": {},
   "source": [
    "### Proviamo a filtrare qualche colonna in base al modulo della correlazione"
   ]
  },
  {
   "cell_type": "code",
   "execution_count": 6,
   "metadata": {},
   "outputs": [
    {
     "name": "stdout",
     "output_type": "stream",
     "text": [
      "Dimensioni del nuovo DataFrame: (900, 44)\n",
      "Features selezionate: 43\n"
     ]
    },
    {
     "name": "stderr",
     "output_type": "stream",
     "text": [
      "c:\\Users\\luigi\\python\\ML_Course_2025\\.venv\\Lib\\site-packages\\numpy\\lib\\_function_base_impl.py:3045: RuntimeWarning: invalid value encountered in divide\n",
      "  c /= stddev[:, None]\n",
      "c:\\Users\\luigi\\python\\ML_Course_2025\\.venv\\Lib\\site-packages\\numpy\\lib\\_function_base_impl.py:3046: RuntimeWarning: invalid value encountered in divide\n",
      "  c /= stddev[None, :]\n"
     ]
    }
   ],
   "source": [
    "# Calcolo le correlazioni con la variabile target\n",
    "correlations = df.corrwith(df['is_security_device'])\n",
    "# Filtro le features con correlazione superiore a 0.3 in valore assoluto\n",
    "significant_features = correlations[abs(correlations) > 0.3].index.tolist()\n",
    "# Rimuovo la variabile target dall'elenco delle features se presente\n",
    "if 'is_security_device' in significant_features:\n",
    "    significant_features.remove('is_security_device')\n",
    "\n",
    "# Creao un nuovo DataFrame con solo le features significative e la variabile target\n",
    "df = df[significant_features + ['is_security_device']]\n",
    "# Visualizzare le dimensioni del nuovo DataFrame\n",
    "print(f\"Dimensioni del nuovo DataFrame: {df.shape}\")\n",
    "print(f\"Features selezionate: {len(significant_features)}\")"
   ]
  },
  {
   "cell_type": "code",
   "execution_count": 7,
   "metadata": {},
   "outputs": [
    {
     "data": {
      "text/html": [
       "<div>\n",
       "<style scoped>\n",
       "    .dataframe tbody tr th:only-of-type {\n",
       "        vertical-align: middle;\n",
       "    }\n",
       "\n",
       "    .dataframe tbody tr th {\n",
       "        vertical-align: top;\n",
       "    }\n",
       "\n",
       "    .dataframe thead th {\n",
       "        text-align: right;\n",
       "    }\n",
       "</style>\n",
       "<table border=\"1\" class=\"dataframe\">\n",
       "  <thead>\n",
       "    <tr style=\"text-align: right;\">\n",
       "      <th></th>\n",
       "      <th>ds_field_B</th>\n",
       "      <th>http_GET</th>\n",
       "      <th>http_count_host</th>\n",
       "      <th>http_count_req_content_type</th>\n",
       "      <th>http_count_resp_code</th>\n",
       "      <th>http_count_resp_content_type</th>\n",
       "      <th>http_count_user_agents</th>\n",
       "      <th>http_has_req_content_type</th>\n",
       "      <th>http_has_resp_content_type</th>\n",
       "      <th>http_has_user_agent</th>\n",
       "      <th>...</th>\n",
       "      <th>ttl_stdev</th>\n",
       "      <th>ttl_var</th>\n",
       "      <th>is_http</th>\n",
       "      <th>B_port_is_11095</th>\n",
       "      <th>B_port_is_80</th>\n",
       "      <th>B_port_is_8080</th>\n",
       "      <th>subdomain_is_else</th>\n",
       "      <th>domain_is_else</th>\n",
       "      <th>suffix_is_empty_char_value</th>\n",
       "      <th>is_security_device</th>\n",
       "    </tr>\n",
       "  </thead>\n",
       "  <tbody>\n",
       "    <tr>\n",
       "      <th>0</th>\n",
       "      <td>0</td>\n",
       "      <td>0</td>\n",
       "      <td>0</td>\n",
       "      <td>0</td>\n",
       "      <td>0</td>\n",
       "      <td>0</td>\n",
       "      <td>0</td>\n",
       "      <td>0</td>\n",
       "      <td>0</td>\n",
       "      <td>0</td>\n",
       "      <td>...</td>\n",
       "      <td>80.973083</td>\n",
       "      <td>6556.640244</td>\n",
       "      <td>0</td>\n",
       "      <td>0</td>\n",
       "      <td>0</td>\n",
       "      <td>0</td>\n",
       "      <td>1</td>\n",
       "      <td>1</td>\n",
       "      <td>0</td>\n",
       "      <td>1</td>\n",
       "    </tr>\n",
       "    <tr>\n",
       "      <th>1</th>\n",
       "      <td>0</td>\n",
       "      <td>0</td>\n",
       "      <td>0</td>\n",
       "      <td>0</td>\n",
       "      <td>0</td>\n",
       "      <td>0</td>\n",
       "      <td>0</td>\n",
       "      <td>0</td>\n",
       "      <td>0</td>\n",
       "      <td>0</td>\n",
       "      <td>...</td>\n",
       "      <td>81.470988</td>\n",
       "      <td>6637.521951</td>\n",
       "      <td>0</td>\n",
       "      <td>0</td>\n",
       "      <td>0</td>\n",
       "      <td>0</td>\n",
       "      <td>1</td>\n",
       "      <td>1</td>\n",
       "      <td>0</td>\n",
       "      <td>1</td>\n",
       "    </tr>\n",
       "    <tr>\n",
       "      <th>2</th>\n",
       "      <td>0</td>\n",
       "      <td>0</td>\n",
       "      <td>0</td>\n",
       "      <td>0</td>\n",
       "      <td>0</td>\n",
       "      <td>0</td>\n",
       "      <td>0</td>\n",
       "      <td>0</td>\n",
       "      <td>0</td>\n",
       "      <td>0</td>\n",
       "      <td>...</td>\n",
       "      <td>82.466290</td>\n",
       "      <td>6800.689024</td>\n",
       "      <td>0</td>\n",
       "      <td>0</td>\n",
       "      <td>0</td>\n",
       "      <td>0</td>\n",
       "      <td>1</td>\n",
       "      <td>1</td>\n",
       "      <td>0</td>\n",
       "      <td>1</td>\n",
       "    </tr>\n",
       "    <tr>\n",
       "      <th>3</th>\n",
       "      <td>0</td>\n",
       "      <td>0</td>\n",
       "      <td>0</td>\n",
       "      <td>0</td>\n",
       "      <td>0</td>\n",
       "      <td>0</td>\n",
       "      <td>0</td>\n",
       "      <td>0</td>\n",
       "      <td>0</td>\n",
       "      <td>0</td>\n",
       "      <td>...</td>\n",
       "      <td>82.495610</td>\n",
       "      <td>6805.525610</td>\n",
       "      <td>0</td>\n",
       "      <td>0</td>\n",
       "      <td>0</td>\n",
       "      <td>0</td>\n",
       "      <td>1</td>\n",
       "      <td>1</td>\n",
       "      <td>0</td>\n",
       "      <td>1</td>\n",
       "    </tr>\n",
       "    <tr>\n",
       "      <th>4</th>\n",
       "      <td>0</td>\n",
       "      <td>0</td>\n",
       "      <td>0</td>\n",
       "      <td>0</td>\n",
       "      <td>0</td>\n",
       "      <td>0</td>\n",
       "      <td>0</td>\n",
       "      <td>0</td>\n",
       "      <td>0</td>\n",
       "      <td>0</td>\n",
       "      <td>...</td>\n",
       "      <td>82.801553</td>\n",
       "      <td>6856.097252</td>\n",
       "      <td>0</td>\n",
       "      <td>0</td>\n",
       "      <td>0</td>\n",
       "      <td>0</td>\n",
       "      <td>1</td>\n",
       "      <td>1</td>\n",
       "      <td>0</td>\n",
       "      <td>1</td>\n",
       "    </tr>\n",
       "  </tbody>\n",
       "</table>\n",
       "<p>5 rows × 44 columns</p>\n",
       "</div>"
      ],
      "text/plain": [
       "   ds_field_B  http_GET  http_count_host  http_count_req_content_type  \\\n",
       "0           0         0                0                            0   \n",
       "1           0         0                0                            0   \n",
       "2           0         0                0                            0   \n",
       "3           0         0                0                            0   \n",
       "4           0         0                0                            0   \n",
       "\n",
       "   http_count_resp_code  http_count_resp_content_type  http_count_user_agents  \\\n",
       "0                     0                             0                       0   \n",
       "1                     0                             0                       0   \n",
       "2                     0                             0                       0   \n",
       "3                     0                             0                       0   \n",
       "4                     0                             0                       0   \n",
       "\n",
       "   http_has_req_content_type  http_has_resp_content_type  http_has_user_agent  \\\n",
       "0                          0                           0                    0   \n",
       "1                          0                           0                    0   \n",
       "2                          0                           0                    0   \n",
       "3                          0                           0                    0   \n",
       "4                          0                           0                    0   \n",
       "\n",
       "   ...  ttl_stdev      ttl_var  is_http  B_port_is_11095  B_port_is_80  \\\n",
       "0  ...  80.973083  6556.640244        0                0             0   \n",
       "1  ...  81.470988  6637.521951        0                0             0   \n",
       "2  ...  82.466290  6800.689024        0                0             0   \n",
       "3  ...  82.495610  6805.525610        0                0             0   \n",
       "4  ...  82.801553  6856.097252        0                0             0   \n",
       "\n",
       "   B_port_is_8080  subdomain_is_else  domain_is_else  \\\n",
       "0               0                  1               1   \n",
       "1               0                  1               1   \n",
       "2               0                  1               1   \n",
       "3               0                  1               1   \n",
       "4               0                  1               1   \n",
       "\n",
       "   suffix_is_empty_char_value  is_security_device  \n",
       "0                           0                   1  \n",
       "1                           0                   1  \n",
       "2                           0                   1  \n",
       "3                           0                   1  \n",
       "4                           0                   1  \n",
       "\n",
       "[5 rows x 44 columns]"
      ]
     },
     "execution_count": 7,
     "metadata": {},
     "output_type": "execute_result"
    }
   ],
   "source": [
    "df.head()"
   ]
  },
  {
   "cell_type": "markdown",
   "metadata": {},
   "source": [
    "Abbiamo tanti zeri e uni... Contiamo se ci sono null e filtriamo orizzontalmente in base alla varianza di ogni colonna"
   ]
  },
  {
   "cell_type": "code",
   "execution_count": 8,
   "metadata": {},
   "outputs": [
    {
     "name": "stdout",
     "output_type": "stream",
     "text": [
      "Colonne con valori NaN:\n",
      "Series([], dtype: int64)\n"
     ]
    }
   ],
   "source": [
    "# Verifica dei valori NaN\n",
    "nan_counts = df.isna().sum()\n",
    "print(f\"Colonne con valori NaN:\")\n",
    "print(nan_counts[nan_counts > 0])"
   ]
  },
  {
   "cell_type": "code",
   "execution_count": 9,
   "metadata": {},
   "outputs": [
    {
     "name": "stdout",
     "output_type": "stream",
     "text": [
      "Top 10 colonne con varianza normalizzata più alta:\n",
      "ttl_var: 1330.9850883452973\n",
      "http_inter_arrivel_sum: 269.3767468676106\n",
      "http_inter_arrivel_max: 150.37803549357778\n",
      "http_inter_arrivel_thirdQ: 44.37273343996672\n",
      "http_inter_arrivel_avg: 40.66207708211984\n",
      "http_req_bytes_median: 35.821965151623125\n",
      "http_req_bytes_firstQ: 35.821965151623125\n",
      "http_req_bytes_max: 35.821965151623125\n",
      "http_req_bytes_avg: 35.821965151623125\n",
      "http_req_bytes_thirdQ: 35.821965151623125\n"
     ]
    }
   ],
   "source": [
    "import pandas as pd\n",
    "import numpy as np\n",
    "\n",
    "def normalize_variance(df):\n",
    "        return df.var() / df.max()\n",
    "\n",
    "# Calcola la varianza normalizzata\n",
    "varianza_norm = normalize_variance(df)\n",
    "\n",
    "# Ordina le colonne in base alla varianza normalizzata (dal più alto al più basso)\n",
    "varianza_ordinata = varianza_norm.sort_values(ascending=False)\n",
    "\n",
    "# Seleziona i nomi delle prime 10 colonne con varianza più alta\n",
    "top_10_colonne = varianza_ordinata.head(10).index.tolist()\n",
    "\n",
    "# Stampa i nomi e i valori delle prime 10 colonne\n",
    "print(\"Top 10 colonne con varianza normalizzata più alta:\")\n",
    "for colonna in top_10_colonne:\n",
    "    print(f\"{colonna}: {varianza_norm[colonna]}\")\n",
    "\n",
    "\n",
    "df_top_10 = df[top_10_colonne]\n"
   ]
  },
  {
   "cell_type": "code",
   "execution_count": 10,
   "metadata": {},
   "outputs": [
    {
     "data": {
      "image/png": "[encoded data removed]",
      "text/plain": [
       "<Figure size 1200x600 with 1 Axes>"
      ]
     },
     "metadata": {},
     "output_type": "display_data"
    }
   ],
   "source": [
    "import matplotlib.pyplot as plt\n",
    "\n",
    "# Visualizza le top 10 colonne con un grafico a barre\n",
    "plt.figure(figsize=(12, 6))\n",
    "varianza_ordinata.head(10).plot(kind='bar')\n",
    "plt.title('Top 10 colonne per varianza normalizzata')\n",
    "plt.ylabel('Varianza normalizzata')\n",
    "plt.xlabel('Colonne')\n",
    "plt.xticks(rotation=45)\n",
    "plt.tight_layout()\n",
    "plt.show()"
   ]
  },
  {
   "cell_type": "code",
   "execution_count": 11,
   "metadata": {},
   "outputs": [
    {
     "name": "stderr",
     "output_type": "stream",
     "text": [
      "C:\\Users\\luigi\\AppData\\Local\\Temp\\ipykernel_161268\\2700016466.py:1: SettingWithCopyWarning: \n",
      "A value is trying to be set on a copy of a slice from a DataFrame.\n",
      "Try using .loc[row_indexer,col_indexer] = value instead\n",
      "\n",
      "See the caveats in the documentation: https://pandas.pydata.org/pandas-docs/stable/user_guide/indexing.html#returning-a-view-versus-a-copy\n",
      "  df_top_10[\"is_security_device\"] = df['is_security_device']\n"
     ]
    }
   ],
   "source": [
    "df_top_10[\"is_security_device\"] = df['is_security_device']\n",
    "cleaned_df = df_top_10"
   ]
  },
  {
   "cell_type": "code",
   "execution_count": 12,
   "metadata": {},
   "outputs": [
    {
     "data": {
      "text/html": [
       "<div>\n",
       "<style scoped>\n",
       "    .dataframe tbody tr th:only-of-type {\n",
       "        vertical-align: middle;\n",
       "    }\n",
       "\n",
       "    .dataframe tbody tr th {\n",
       "        vertical-align: top;\n",
       "    }\n",
       "\n",
       "    .dataframe thead th {\n",
       "        text-align: right;\n",
       "    }\n",
       "</style>\n",
       "<table border=\"1\" class=\"dataframe\">\n",
       "  <thead>\n",
       "    <tr style=\"text-align: right;\">\n",
       "      <th></th>\n",
       "      <th>ttl_var</th>\n",
       "      <th>http_inter_arrivel_sum</th>\n",
       "      <th>http_inter_arrivel_max</th>\n",
       "      <th>http_inter_arrivel_thirdQ</th>\n",
       "      <th>http_inter_arrivel_avg</th>\n",
       "      <th>http_req_bytes_median</th>\n",
       "      <th>http_req_bytes_firstQ</th>\n",
       "      <th>http_req_bytes_max</th>\n",
       "      <th>http_req_bytes_avg</th>\n",
       "      <th>http_req_bytes_thirdQ</th>\n",
       "      <th>is_security_device</th>\n",
       "    </tr>\n",
       "  </thead>\n",
       "  <tbody>\n",
       "    <tr>\n",
       "      <th>0</th>\n",
       "      <td>6556.640244</td>\n",
       "      <td>2840.981562</td>\n",
       "      <td>1547.304718</td>\n",
       "      <td>694.86998</td>\n",
       "      <td>648.797378</td>\n",
       "      <td>0</td>\n",
       "      <td>0</td>\n",
       "      <td>0</td>\n",
       "      <td>0</td>\n",
       "      <td>0</td>\n",
       "      <td>1</td>\n",
       "    </tr>\n",
       "    <tr>\n",
       "      <th>1</th>\n",
       "      <td>6637.521951</td>\n",
       "      <td>2840.981562</td>\n",
       "      <td>1547.304718</td>\n",
       "      <td>694.86998</td>\n",
       "      <td>648.797378</td>\n",
       "      <td>0</td>\n",
       "      <td>0</td>\n",
       "      <td>0</td>\n",
       "      <td>0</td>\n",
       "      <td>0</td>\n",
       "      <td>1</td>\n",
       "    </tr>\n",
       "    <tr>\n",
       "      <th>2</th>\n",
       "      <td>6800.689024</td>\n",
       "      <td>2840.981562</td>\n",
       "      <td>1547.304718</td>\n",
       "      <td>694.86998</td>\n",
       "      <td>648.797378</td>\n",
       "      <td>0</td>\n",
       "      <td>0</td>\n",
       "      <td>0</td>\n",
       "      <td>0</td>\n",
       "      <td>0</td>\n",
       "      <td>1</td>\n",
       "    </tr>\n",
       "    <tr>\n",
       "      <th>3</th>\n",
       "      <td>6805.525610</td>\n",
       "      <td>2840.981562</td>\n",
       "      <td>1547.304718</td>\n",
       "      <td>694.86998</td>\n",
       "      <td>648.797378</td>\n",
       "      <td>0</td>\n",
       "      <td>0</td>\n",
       "      <td>0</td>\n",
       "      <td>0</td>\n",
       "      <td>0</td>\n",
       "      <td>1</td>\n",
       "    </tr>\n",
       "    <tr>\n",
       "      <th>4</th>\n",
       "      <td>6856.097252</td>\n",
       "      <td>2840.981562</td>\n",
       "      <td>1547.304718</td>\n",
       "      <td>694.86998</td>\n",
       "      <td>648.797378</td>\n",
       "      <td>0</td>\n",
       "      <td>0</td>\n",
       "      <td>0</td>\n",
       "      <td>0</td>\n",
       "      <td>0</td>\n",
       "      <td>1</td>\n",
       "    </tr>\n",
       "    <tr>\n",
       "      <th>...</th>\n",
       "      <td>...</td>\n",
       "      <td>...</td>\n",
       "      <td>...</td>\n",
       "      <td>...</td>\n",
       "      <td>...</td>\n",
       "      <td>...</td>\n",
       "      <td>...</td>\n",
       "      <td>...</td>\n",
       "      <td>...</td>\n",
       "      <td>...</td>\n",
       "      <td>...</td>\n",
       "    </tr>\n",
       "    <tr>\n",
       "      <th>895</th>\n",
       "      <td>30.192024</td>\n",
       "      <td>2840.981562</td>\n",
       "      <td>1547.304718</td>\n",
       "      <td>694.86998</td>\n",
       "      <td>648.797378</td>\n",
       "      <td>0</td>\n",
       "      <td>0</td>\n",
       "      <td>0</td>\n",
       "      <td>0</td>\n",
       "      <td>0</td>\n",
       "      <td>0</td>\n",
       "    </tr>\n",
       "    <tr>\n",
       "      <th>896</th>\n",
       "      <td>28.615385</td>\n",
       "      <td>2840.981562</td>\n",
       "      <td>1547.304718</td>\n",
       "      <td>694.86998</td>\n",
       "      <td>648.797378</td>\n",
       "      <td>0</td>\n",
       "      <td>0</td>\n",
       "      <td>0</td>\n",
       "      <td>0</td>\n",
       "      <td>0</td>\n",
       "      <td>0</td>\n",
       "    </tr>\n",
       "    <tr>\n",
       "      <th>897</th>\n",
       "      <td>39.084416</td>\n",
       "      <td>2840.981562</td>\n",
       "      <td>1547.304718</td>\n",
       "      <td>694.86998</td>\n",
       "      <td>648.797378</td>\n",
       "      <td>0</td>\n",
       "      <td>0</td>\n",
       "      <td>0</td>\n",
       "      <td>0</td>\n",
       "      <td>0</td>\n",
       "      <td>0</td>\n",
       "    </tr>\n",
       "    <tr>\n",
       "      <th>898</th>\n",
       "      <td>33.516129</td>\n",
       "      <td>2840.981562</td>\n",
       "      <td>1547.304718</td>\n",
       "      <td>694.86998</td>\n",
       "      <td>648.797378</td>\n",
       "      <td>0</td>\n",
       "      <td>0</td>\n",
       "      <td>0</td>\n",
       "      <td>0</td>\n",
       "      <td>0</td>\n",
       "      <td>0</td>\n",
       "    </tr>\n",
       "    <tr>\n",
       "      <th>899</th>\n",
       "      <td>52.642753</td>\n",
       "      <td>2840.981562</td>\n",
       "      <td>1547.304718</td>\n",
       "      <td>694.86998</td>\n",
       "      <td>648.797378</td>\n",
       "      <td>0</td>\n",
       "      <td>0</td>\n",
       "      <td>0</td>\n",
       "      <td>0</td>\n",
       "      <td>0</td>\n",
       "      <td>0</td>\n",
       "    </tr>\n",
       "  </tbody>\n",
       "</table>\n",
       "<p>900 rows × 11 columns</p>\n",
       "</div>"
      ],
      "text/plain": [
       "         ttl_var  http_inter_arrivel_sum  http_inter_arrivel_max  \\\n",
       "0    6556.640244             2840.981562             1547.304718   \n",
       "1    6637.521951             2840.981562             1547.304718   \n",
       "2    6800.689024             2840.981562             1547.304718   \n",
       "3    6805.525610             2840.981562             1547.304718   \n",
       "4    6856.097252             2840.981562             1547.304718   \n",
       "..           ...                     ...                     ...   \n",
       "895    30.192024             2840.981562             1547.304718   \n",
       "896    28.615385             2840.981562             1547.304718   \n",
       "897    39.084416             2840.981562             1547.304718   \n",
       "898    33.516129             2840.981562             1547.304718   \n",
       "899    52.642753             2840.981562             1547.304718   \n",
       "\n",
       "     http_inter_arrivel_thirdQ  http_inter_arrivel_avg  http_req_bytes_median  \\\n",
       "0                    694.86998              648.797378                      0   \n",
       "1                    694.86998              648.797378                      0   \n",
       "2                    694.86998              648.797378                      0   \n",
       "3                    694.86998              648.797378                      0   \n",
       "4                    694.86998              648.797378                      0   \n",
       "..                         ...                     ...                    ...   \n",
       "895                  694.86998              648.797378                      0   \n",
       "896                  694.86998              648.797378                      0   \n",
       "897                  694.86998              648.797378                      0   \n",
       "898                  694.86998              648.797378                      0   \n",
       "899                  694.86998              648.797378                      0   \n",
       "\n",
       "     http_req_bytes_firstQ  http_req_bytes_max  http_req_bytes_avg  \\\n",
       "0                        0                   0                   0   \n",
       "1                        0                   0                   0   \n",
       "2                        0                   0                   0   \n",
       "3                        0                   0                   0   \n",
       "4                        0                   0                   0   \n",
       "..                     ...                 ...                 ...   \n",
       "895                      0                   0                   0   \n",
       "896                      0                   0                   0   \n",
       "897                      0                   0                   0   \n",
       "898                      0                   0                   0   \n",
       "899                      0                   0                   0   \n",
       "\n",
       "     http_req_bytes_thirdQ  is_security_device  \n",
       "0                        0                   1  \n",
       "1                        0                   1  \n",
       "2                        0                   1  \n",
       "3                        0                   1  \n",
       "4                        0                   1  \n",
       "..                     ...                 ...  \n",
       "895                      0                   0  \n",
       "896                      0                   0  \n",
       "897                      0                   0  \n",
       "898                      0                   0  \n",
       "899                      0                   0  \n",
       "\n",
       "[900 rows x 11 columns]"
      ]
     },
     "execution_count": 12,
     "metadata": {},
     "output_type": "execute_result"
    }
   ],
   "source": [
    "cleaned_df"
   ]
  },
  {
   "cell_type": "code",
   "execution_count": 13,
   "metadata": {},
   "outputs": [
    {
     "name": "stdout",
     "output_type": "stream",
     "text": [
      "Dimensioni del set di addestramento: (720, 10)\n",
      "Dimensioni del set di test: (180, 10)\n"
     ]
    }
   ],
   "source": [
    "from sklearn.model_selection import train_test_split\n",
    "# Dividi il dataframe in set di addestramento e test\n",
    "X = cleaned_df.drop(columns=['is_security_device'])\n",
    "y = cleaned_df['is_security_device']\n",
    "\n",
    "# Utilizza train_test_split per dividere i dati\n",
    "X_train, X_test, y_train, y_test = train_test_split(X, y, test_size=0.2, random_state=42)\n",
    "\n",
    "# Visualizza le dimensioni dei set di addestramento e test\n",
    "print(f\"Dimensioni del set di addestramento: {X_train.shape}\")\n",
    "print(f\"Dimensioni del set di test: {X_test.shape}\")"
   ]
  },
  {
   "cell_type": "code",
   "execution_count": 22,
   "metadata": {},
   "outputs": [
    {
     "name": "stdout",
     "output_type": "stream",
     "text": [
      "Accuracy: 0.8111\n"
     ]
    }
   ],
   "source": [
    "from sklearn.linear_model import LogisticRegression\n",
    "from sklearn.metrics import accuracy_score, confusion_matrix, precision_score, recall_score, f1_score\n",
    "import seaborn as sns\n",
    "\n",
    "import matplotlib.pyplot as plt\n",
    "\n",
    "# Inizializza il modello di Regressione Logistica\n",
    "logistic_model = LogisticRegression(random_state=42, max_iter=10000)\n",
    "\n",
    "# Addestra il modello\n",
    "logistic_model.fit(X_train, y_train)\n",
    "\n",
    "# Effettua le predizioni sul set di test\n",
    "y_pred = logistic_model.predict(X_test)\n",
    "\n",
    "# Calcola e stampa le metriche di valutazione\n",
    "accuracy = accuracy_score(y_test, y_pred)\n",
    "print(f\"Accuracy: {accuracy:.4f}\")"
   ]
  }
 ],
 "metadata": {
  "kernelspec": {
   "display_name": ".venv",
   "language": "python",
   "name": "python3"
  },
  "language_info": {
   "codemirror_mode": {
    "name": "ipython",
    "version": 3
   },
   "file_extension": ".py",
   "mimetype": "text/x-python",
   "name": "python",
   "nbconvert_exporter": "python",
   "pygments_lexer": "ipython3",
   "version": "3.12.9"
  }
 },
 "nbformat": 4,
 "nbformat_minor": 2
}
